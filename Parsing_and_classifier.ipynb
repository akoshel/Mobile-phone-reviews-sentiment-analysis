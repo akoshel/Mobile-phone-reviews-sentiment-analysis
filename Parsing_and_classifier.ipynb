{
 "cells": [
  {
   "cell_type": "code",
   "execution_count": 19,
   "metadata": {},
   "outputs": [],
   "source": [
    "import pandas as pd\n",
    "import numpy as np\n",
    "import bs4\n",
    "import requests\n",
    "import re\n",
    "from sklearn.feature_extraction.text import TfidfVectorizer\n",
    "from sklearn.decomposition import SparsePCA, TruncatedSVD, NMF\n",
    "from sklearn.model_selection import cross_val_score, GridSearchCV\n",
    "from sklearn.linear_model import LogisticRegression\n",
    "from imblearn.under_sampling import RandomUnderSampler\n",
    "from imblearn.over_sampling import RandomOverSampler\n",
    "from imblearn.pipeline import Pipeline\n",
    "from sklearn.decomposition import SparsePCA, TruncatedSVD, NMF\n",
    "import pickle\n",
    "import joblib\n",
    "import warnings\n",
    "warnings.filterwarnings('ignore')"
   ]
  },
  {
   "cell_type": "code",
   "execution_count": 2,
   "metadata": {},
   "outputs": [],
   "source": [
    "with open('test.csv', 'r', encoding='utf-8') as file:\n",
    "    data_test = file.read().replace('\\n', ' ')"
   ]
  },
  {
   "cell_type": "code",
   "execution_count": 3,
   "metadata": {},
   "outputs": [],
   "source": [
    "parser1 = bs4.BeautifulSoup(data_test, 'lxml')"
   ]
  },
  {
   "cell_type": "code",
   "execution_count": 4,
   "metadata": {},
   "outputs": [],
   "source": [
    "X_test = parser1.find_all('review')    "
   ]
  },
  {
   "cell_type": "code",
   "execution_count": 5,
   "metadata": {},
   "outputs": [],
   "source": [
    "X_test_prep = pd.Series([x.text for x in X_test] )"
   ]
  },
  {
   "cell_type": "code",
   "execution_count": 6,
   "metadata": {},
   "outputs": [
    {
     "data": {
      "text/plain": [
       "'Ужасно слабый аккумулятор, это основной минус этого аппарата, разряжается буквально за пару часов при включенном wifi и на макс подсветке, например если играть или смотреть видео, следовательно использовать можно только если есть постоянная возможность подзарядиться. Качества звука через динамик далеко не на высоте.Наблюдаются незначительные тормоза в некоторых приложениях и вообще в меню. Очень мало встроенной памяти, а приложения устанавливаются именно туда, с этим связанны неудобства - нужно постоянно переносить их на карту памяти. Несколько неудобно что нету отдельной кнопки для фото. Подумываю купить батарею большей емкость мб что нибудь измениться. '"
      ]
     },
     "execution_count": 6,
     "metadata": {},
     "output_type": "execute_result"
    }
   ],
   "source": [
    "X_test_prep[0]"
   ]
  },
  {
   "cell_type": "markdown",
   "metadata": {},
   "source": [
    "Как обучающую выборку будем использовать комментарии и оценки пользователей с сайта imarket.by.\n",
    "Ниже представлен скрипт для парсинга этого сайта. Получены отызвы с оценками 1,2,4 и 5 по 5-и бальной шкале."
   ]
  },
  {
   "cell_type": "code",
   "execution_count": 8,
   "metadata": {},
   "outputs": [
    {
     "name": "stdout",
     "output_type": "stream",
     "text": [
      "Overwriting imarket_parse.py\n"
     ]
    }
   ],
   "source": [
    "%%writefile imarket_parse.py\n",
    "import requests\n",
    "import bs4\n",
    "from multiprocessing import Pool\n",
    "from functools import reduce\n",
    "import time\n",
    "import random\n",
    "import pandas as pd\n",
    "import re\n",
    "\n",
    "def parse_page(url):\n",
    "    time.sleep(random.randint(0,10))\n",
    "    try:\n",
    "        req = requests.get(url)\n",
    "    except:\n",
    "        return(pd.DataFrame(columns=['comment', 'rating']))\n",
    "    parser = bs4.BeautifulSoup(req.text, 'lxml')\n",
    "    posts = parser.find_all('div', attrs={'class':'popular-review-item'})\n",
    "    comments=[]\n",
    "    ratings=[]\n",
    "    for post in posts:\n",
    "        try:\n",
    "            comment = re.findall(r'Комментарий[^\\>]*', post.text)[0].replace('Комментарий:', '').strip()\n",
    "            rating = post.find('ul', attrs={'class':'goods-rating'}).find_all('li', attrs={'class':'full'})\n",
    "            comments.append(comment)\n",
    "            ratings.append(len(rating))\n",
    "        except:\n",
    "            pass\n",
    "    return( pd.DataFrame(list(zip(comments,ratings)), columns=['comment', 'rating']))\n",
    "\n",
    "if __name__ == '__main__':    \n",
    "    p = Pool(10)\n",
    "    url_list5 = ['https://imarket.by/category-reviews/mobilnye-telefony/?page={}&rating=5'.format(str(n)) for n in range(1, 100)]\n",
    "    map_results5 = p.map(parse_page, url_list5)\n",
    "    result5 = pd.concat(map_results5, ignore_index=True)\n",
    "    url_list4 = ['https://imarket.by/category-reviews/mobilnye-telefony/?page={}&rating=4'.format(str(n)) for n in range(1, 100)]\n",
    "    map_results4 = p.map(parse_page, url_list4)\n",
    "    result4 = pd.concat(map_results4, ignore_index=True)\n",
    "    url_list2 = ['https://imarket.by/category-reviews/mobilnye-telefony/?page={}&rating=2'.format(str(n)) for n in range(1, 100)]\n",
    "    map_results2 = p.map(parse_page, url_list2)\n",
    "    result2 = pd.concat(map_results2, ignore_index=True)\n",
    "    url_list1 = ['https://imarket.by/category-reviews/mobilnye-telefony/?page={}&rating=1'.format(str(n)) for n in range(1, 100)]\n",
    "    map_results1 = p.map(parse_page, url_list1)\n",
    "    result1 = pd.concat(map_results1, ignore_index=True)\n",
    "    conc_result = pd.concat([result1, result2, result4, result5], ignore_index=True)\n",
    "    conc_result.to_pickle('parsing_results.pkl')\n",
    "    "
   ]
  },
  {
   "cell_type": "code",
   "execution_count": 7,
   "metadata": {},
   "outputs": [],
   "source": [
    "imarket_data = pd.read_pickle('parsing_results.pkl')"
   ]
  },
  {
   "cell_type": "code",
   "execution_count": 8,
   "metadata": {},
   "outputs": [
    {
     "data": {
      "text/plain": [
       "True     3337\n",
       "False     476\n",
       "dtype: int64"
      ]
     },
     "execution_count": 8,
     "metadata": {},
     "output_type": "execute_result"
    }
   ],
   "source": [
    "imarket_data.duplicated().value_counts()"
   ]
  },
  {
   "cell_type": "markdown",
   "metadata": {},
   "source": [
    "Сразу не обратил внимание, но руководители сайта сжульничали, написав, что у них 10000 обзоров. Выше представлено колиечство дубликатов. Они дублировали обзоры на одинаковые модели в различных модификациях"
   ]
  },
  {
   "cell_type": "code",
   "execution_count": 9,
   "metadata": {},
   "outputs": [],
   "source": [
    "imarket_data.drop_duplicates(subset='comment', keep=\"first\", inplace=True)"
   ]
  },
  {
   "cell_type": "code",
   "execution_count": 10,
   "metadata": {},
   "outputs": [
    {
     "data": {
      "text/plain": [
       "5    425\n",
       "4     26\n",
       "2     12\n",
       "1     11\n",
       "3      2\n",
       "Name: rating, dtype: int64"
      ]
     },
     "execution_count": 10,
     "metadata": {},
     "output_type": "execute_result"
    }
   ],
   "source": [
    "imarket_data.rating.value_counts()"
   ]
  },
  {
   "cell_type": "markdown",
   "metadata": {},
   "source": [
    "Как видим, почти все отзывы положительные. Допарсим негативные отзывы с сайта https://nanegative.ru/"
   ]
  },
  {
   "cell_type": "code",
   "execution_count": 118,
   "metadata": {},
   "outputs": [
    {
     "name": "stdout",
     "output_type": "stream",
     "text": [
      "Overwriting negative_parse.py\n"
     ]
    }
   ],
   "source": [
    "%%writefile negative_parse.py\n",
    "import requests\n",
    "import bs4\n",
    "from multiprocessing import Pool\n",
    "from functools import reduce\n",
    "import time\n",
    "import random\n",
    "import pandas as pd\n",
    "import re\n",
    "\n",
    "def get_review_link(url):\n",
    "    try:\n",
    "        req = requests.get(url)\n",
    "        parser = bs4.BeautifulSoup(req.text, 'lxml') \n",
    "        model_reviews = parser.find_all('div', attrs={'class':'find-list-box'})\n",
    "        return(['https://nanegative.ru' + select_phone.find('a', attrs={'class':'ss'})['href']  for select_phone in model_reviews])\n",
    "    except:\n",
    "        return(['error'])\n",
    "def get_comments(url):\n",
    "    time.sleep(random.randint(0,10))\n",
    "    try:\n",
    "        req = requests.get(url)\n",
    "    except:\n",
    "        return(pd.DataFrame(columns=['comment', 'rating']))\n",
    "    parser = bs4.BeautifulSoup(req.text, 'lxml')\n",
    "    reviews = parser.find_all('div', attrs={'class':'reviewers-box'})\n",
    "    comments = []\n",
    "    ratings=[]\n",
    "    for review in reviews:\n",
    "        try:\n",
    "            comments.append((review.find('td', attrs={'itemprop':'contra'}).text +\n",
    "                                review.find('td', attrs={'itemprop':'reviewBody'}).text).strip())\n",
    "            ratings.append(5-len(review.find('ul', attrs={'class':'rate'}).find_all('span', attrs={'class': 'star e'})))\n",
    "        except:\n",
    "            pass\n",
    "    return(pd.DataFrame(list(zip(comments,ratings)), columns=['comment', 'rating']))\n",
    "\n",
    "if __name__ == '__main__':    \n",
    "    res_df = pd.DataFrame(columns=['comment', 'rating'])\n",
    "    parse_links = ['https://nanegative.ru/mobilnye-telefony-otzivy?page={}'.format(str(n)) for n in range(1, 15)]\n",
    "    for link in parse_links:\n",
    "        p = Pool(10)\n",
    "        phone_model_links = get_review_link(link)\n",
    "        map_results = p.map(get_comments, phone_model_links)\n",
    "        map_df = pd.concat(map_results, ignore_index=True)\n",
    "        res_df = pd.concat([res_df, map_df], ignore_index=True)\n",
    "    res_df.to_pickle('negative_parsing_results.pkl')"
   ]
  },
  {
   "cell_type": "code",
   "execution_count": 11,
   "metadata": {},
   "outputs": [],
   "source": [
    "negative_data = pd.read_pickle('negative_parsing_results.pkl')\n",
    "negative_data.drop_duplicates(subset='comment', keep=\"first\", inplace=True)"
   ]
  },
  {
   "cell_type": "code",
   "execution_count": 12,
   "metadata": {},
   "outputs": [],
   "source": [
    "data_train = pd.concat([imarket_data, negative_data], ignore_index=True)"
   ]
  },
  {
   "cell_type": "code",
   "execution_count": 13,
   "metadata": {},
   "outputs": [
    {
     "data": {
      "text/plain": [
       "2    1546\n",
       "3    1424\n",
       "1    1348\n",
       "5     425\n",
       "4      27\n",
       "Name: rating, dtype: int64"
      ]
     },
     "execution_count": 13,
     "metadata": {},
     "output_type": "execute_result"
    }
   ],
   "source": [
    "data_train.rating.value_counts()"
   ]
  },
  {
   "cell_type": "markdown",
   "metadata": {},
   "source": [
    "Удалим нейтральные комментарии с оценкой 3\n"
   ]
  },
  {
   "cell_type": "code",
   "execution_count": 14,
   "metadata": {},
   "outputs": [],
   "source": [
    "data_train = data_train[data_train.rating != 3]"
   ]
  },
  {
   "cell_type": "code",
   "execution_count": 15,
   "metadata": {},
   "outputs": [],
   "source": [
    "d = {1:0, 2:0, 4:1, 5:1}\n",
    "data_train['positive'] = data_train['rating'].map(d)"
   ]
  },
  {
   "cell_type": "code",
   "execution_count": 16,
   "metadata": {},
   "outputs": [
    {
     "data": {
      "text/plain": [
       "0    2894\n",
       "1     452\n",
       "Name: positive, dtype: int64"
      ]
     },
     "execution_count": 16,
     "metadata": {},
     "output_type": "execute_result"
    }
   ],
   "source": [
    "data_train.positive.value_counts()"
   ]
  },
  {
   "cell_type": "markdown",
   "metadata": {},
   "source": [
    "Далее подберем параметры лучшего пайплайна по сетке"
   ]
  },
  {
   "cell_type": "code",
   "execution_count": 174,
   "metadata": {},
   "outputs": [],
   "source": [
    "def pipline(vectorizer, sampler, decompositor, classifier):\n",
    "    return(Pipeline(steps=[(\"vectorizer\", vectorizer),\n",
    "                    (\"sampler\", sampler),\n",
    "                    ('decomposition', decompositor),\n",
    "                    (\"classifier\", classifier)]))"
   ]
  },
  {
   "cell_type": "code",
   "execution_count": 176,
   "metadata": {},
   "outputs": [],
   "source": [
    "params = {'vectorizer__ngram_range': [(1, 1), (1, 2), (1, 3)], 'vectorizer__min_df':[1, 10],\n",
    "         'vectorizer__max_df':[0.3, 0.5, 1], 'classifier__C':[0.1, 1, 10],\n",
    "            'classifier__penalty':['l1', 'l2'], 'sampler': [RandomUnderSampler(), RandomOverSampler(), None],\n",
    "            'decomposition': [TruncatedSVD(), None]}"
   ]
  },
  {
   "cell_type": "code",
   "execution_count": 177,
   "metadata": {},
   "outputs": [],
   "source": [
    "pipe = pipline(TfidfVectorizer(), None, None, LogisticRegression())"
   ]
  },
  {
   "cell_type": "code",
   "execution_count": 178,
   "metadata": {},
   "outputs": [],
   "source": [
    "grid = GridSearchCV(pipe, param_grid=params, scoring='accuracy')"
   ]
  },
  {
   "cell_type": "code",
   "execution_count": 179,
   "metadata": {},
   "outputs": [
    {
     "data": {
      "text/plain": [
       "GridSearchCV(estimator=Pipeline(steps=[('vectorizer', TfidfVectorizer()),\n",
       "                                       ('sampler', None),\n",
       "                                       ('decomposition', None),\n",
       "                                       ('classifier', LogisticRegression())]),\n",
       "             param_grid={'classifier__C': [0.1, 1, 10],\n",
       "                         'classifier__penalty': ['l1', 'l2'],\n",
       "                         'decomposition': [TruncatedSVD(), None],\n",
       "                         'sampler': [RandomUnderSampler(), RandomOverSampler(),\n",
       "                                     None],\n",
       "                         'vectorizer__max_df': [0.3, 0.5, 1],\n",
       "                         'vectorizer__min_df': [1, 10],\n",
       "                         'vectorizer__ngram_range': [(1, 1), (1, 2), (1, 3)]},\n",
       "             scoring='accuracy')"
      ]
     },
     "execution_count": 179,
     "metadata": {},
     "output_type": "execute_result"
    }
   ],
   "source": [
    "grid.fit(data_train.comment, data_train.positive)"
   ]
  },
  {
   "cell_type": "code",
   "execution_count": 185,
   "metadata": {},
   "outputs": [
    {
     "data": {
      "text/plain": [
       "{'classifier__C': 1,\n",
       " 'classifier__penalty': 'l2',\n",
       " 'decomposition': None,\n",
       " 'sampler': RandomOverSampler(),\n",
       " 'vectorizer__max_df': 0.5,\n",
       " 'vectorizer__min_df': 10,\n",
       " 'vectorizer__ngram_range': (1, 2)}"
      ]
     },
     "execution_count": 185,
     "metadata": {},
     "output_type": "execute_result"
    }
   ],
   "source": [
    "grid.best_params_"
   ]
  },
  {
   "cell_type": "code",
   "execution_count": 187,
   "metadata": {},
   "outputs": [],
   "source": [
    "obj = grid.best_estimator_\n",
    "output = open('best_pipline.pkl', 'wb')\n",
    "pickle.dump(obj, output, 2)\n",
    "output.close()"
   ]
  },
  {
   "cell_type": "code",
   "execution_count": 20,
   "metadata": {},
   "outputs": [],
   "source": [
    "best_pipe = joblib.load(\"best_pipline.pkl\")"
   ]
  },
  {
   "cell_type": "code",
   "execution_count": 22,
   "metadata": {},
   "outputs": [],
   "source": [
    "result = best_pipe.predict(X_test_prep)\n",
    "to_kaggle = pd.DataFrame(result, columns = ['y'], index=X_test_prep.index)#\n",
    "d = {0:'neg', 1:'pos'}\n",
    "to_kaggle['y'] = to_kaggle['y'].map(d)\n",
    "to_kaggle.index.name = 'Id'\n",
    "to_kaggle.to_csv('Week6_results.csv')"
   ]
  },
  {
   "cell_type": "markdown",
   "metadata": {},
   "source": [
    "{'classifier__C': 1,\n",
    " 'classifier__penalty': 'l2',\n",
    " 'decomposition': None,\n",
    " 'sampler': RandomOverSampler(),\n",
    " 'vectorizer__max_df': 0.5,\n",
    " 'vectorizer__min_df': 10,\n",
    " 'vectorizer__ngram_range': (1, 2)}"
   ]
  },
  {
   "attachments": {
    "Kaggle.PNG": {
     "image/png": "[encoded data removed]"
    }
   },
   "cell_type": "markdown",
   "metadata": {},
   "source": [
    "![Kaggle.PNG](attachment:Kaggle.PNG)"
   ]
  },
  {
   "cell_type": "markdown",
   "metadata": {},
   "source": [
    "Результат соревнования показан выше. Результат можно было бы улучшить добрав еще положительных отзывов, но так как задача учебная, я не стал зацикливаться на максимизации оценки"
   ]
  },
  {
   "cell_type": "code",
   "execution_count": null,
   "metadata": {},
   "outputs": [],
   "source": []
  }
 ],
 "metadata": {
  "kernelspec": {
   "display_name": "Python 3",
   "language": "python",
   "name": "python3"
  },
  "language_info": {
   "codemirror_mode": {
    "name": "ipython",
    "version": 3
   },
   "file_extension": ".py",
   "mimetype": "text/x-python",
   "name": "python",
   "nbconvert_exporter": "python",
   "pygments_lexer": "ipython3",
   "version": "3.7.3"
  }
 },
 "nbformat": 4,
 "nbformat_minor": 4
}
